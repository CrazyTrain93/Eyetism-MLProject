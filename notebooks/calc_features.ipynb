{
 "cells": [
  {
   "cell_type": "code",
   "execution_count": null,
   "metadata": {},
   "outputs": [],
   "source": [
    "import sys\n",
    "import os\n",
    "import pandas as pd\n",
    "import numpy as np\n",
    "\n",
    "# import own modules\n",
    "sys.path.append(\"..\")  # Adds higher directory to python modules path.\n",
    "from scripts import features as ft"
   ]
  },
  {
   "cell_type": "code",
   "execution_count": null,
   "metadata": {},
   "outputs": [],
   "source": [
    "# path to csv file\n",
    "path_df = os.path.join(\"..\", \"data\", \"df.csv\")\n",
    "\n",
    "# recalculate ???\n",
    "recalculate_df = False\n",
    "\n",
    "# get features\n",
    "if os.path.isfile(path_df) and not recalculate_df:\n",
    "    df = pd.read_csv(path_df, index_col=0)\n",
    "else:\n",
    "    df = ft.get_features()\n",
    "    df.to_csv(path_df)"
   ]
  }
 ],
 "metadata": {
  "kernelspec": {
   "display_name": "nf_CAPSTONE",
   "language": "python",
   "name": "python3"
  },
  "language_info": {
   "codemirror_mode": {
    "name": "ipython",
    "version": 3
   },
   "file_extension": ".py",
   "mimetype": "text/x-python",
   "name": "python",
   "nbconvert_exporter": "python",
   "pygments_lexer": "ipython3",
   "version": "3.11.3"
  }
 },
 "nbformat": 4,
 "nbformat_minor": 2
}
