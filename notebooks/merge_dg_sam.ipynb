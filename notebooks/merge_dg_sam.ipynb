{
 "cells": [
  {
   "cell_type": "code",
   "execution_count": 1,
   "metadata": {},
   "outputs": [],
   "source": [
    "import os\n",
    "import pandas as pd"
   ]
  },
  {
   "cell_type": "code",
   "execution_count": 27,
   "metadata": {},
   "outputs": [
    {
     "name": "stdout",
     "output_type": "stream",
     "text": [
      "<class 'pandas.core.frame.DataFrame'>\n",
      "RangeIndex: 7598 entries, 0 to 7597\n",
      "Columns: 310 entries, id to obj_t_rel_on_gorilla_obj\n",
      "dtypes: float64(294), int64(15), object(1)\n",
      "memory usage: 18.0+ MB\n",
      "None\n",
      "<class 'pandas.core.frame.DataFrame'>\n",
      "RangeIndex: 7598 entries, 0 to 7597\n",
      "Data columns (total 11 columns):\n",
      " #   Column                             Non-Null Count  Dtype  \n",
      "---  ------                             --------------  -----  \n",
      " 0   id                                 7598 non-null   object \n",
      " 1   sam_sal_first_fixation             7598 non-null   float64\n",
      " 2   sam_sal_first_above_0.75*max_rank  7598 non-null   int64  \n",
      " 3   sam_sal_first_above_0.9*max_rank   7598 non-null   int64  \n",
      " 4   sam_sal_mean                       7598 non-null   float64\n",
      " 5   sam_sal_sum                        7598 non-null   float64\n",
      " 6   sam_sal_max                        7598 non-null   float64\n",
      " 7   sam_sal_weighted_duration_sum      7598 non-null   float64\n",
      " 8   sam_sal_weighted_duration_mean     7598 non-null   float64\n",
      " 9   sam_sal_KLD                        7598 non-null   float64\n",
      " 10  sam_sal_NSS                        7598 non-null   float64\n",
      "dtypes: float64(8), int64(2), object(1)\n",
      "memory usage: 653.1+ KB\n",
      "None\n",
      "<class 'pandas.core.frame.DataFrame'>\n",
      "RangeIndex: 7598 entries, 0 to 7597\n",
      "Columns: 320 entries, id to sam_sal_NSS\n",
      "dtypes: float64(302), int64(17), object(1)\n",
      "memory usage: 18.5+ MB\n",
      "None\n"
     ]
    }
   ],
   "source": [
    "dg_file = os.path.join(\"..\", \"data\", \"df_deepgaze2e.csv\")\n",
    "sam_file = os.path.join(\"..\", \"data\", \"df_sam_resnet.csv\")\n",
    "\n",
    "dg_df = pd.read_csv(dg_file)\n",
    "sam_df = pd.read_csv(sam_file)\n",
    "\n",
    "dg_sal_cols = {col: \"dg_\" + col for col in dg_df.columns if \"sal_\" in col}\n",
    "sam_sal_cols = {col: \"sam_\" + col for col in sam_df.columns if \"sal_\" in col}\n",
    "\n",
    "dg_df = dg_df.rename(columns=dg_sal_cols)\n",
    "sam_df = sam_df.rename(columns=sam_sal_cols)\n",
    "\n",
    "drop_sam = [col for col in sam_df.columns if (\"sp_\" in col) or (\"obj_\" in col)]\n",
    "sam_df = sam_df.drop(columns=drop_sam)  # drop 'object' columns\n",
    "sam_df = sam_df.drop(columns=['asd', 'img'])  # drop 'object' columns\n",
    "\n",
    "df = dg_df.copy()\n",
    "df = df.merge(sam_df, on=\"id\")\n",
    "\n",
    "df.to_csv(os.path.join(\"..\", \"data\", \"df_deep_sam.csv\"), index=False)"
   ]
  }
 ],
 "metadata": {
  "kernelspec": {
   "display_name": "nf_CAPSTONE",
   "language": "python",
   "name": "python3"
  },
  "language_info": {
   "codemirror_mode": {
    "name": "ipython",
    "version": 3
   },
   "file_extension": ".py",
   "mimetype": "text/x-python",
   "name": "python",
   "nbconvert_exporter": "python",
   "pygments_lexer": "ipython3",
   "version": "3.11.3"
  }
 },
 "nbformat": 4,
 "nbformat_minor": 2
}
