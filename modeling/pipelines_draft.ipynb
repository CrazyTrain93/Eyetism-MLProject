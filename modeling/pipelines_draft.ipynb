{
 "cells": [
  {
   "cell_type": "markdown",
   "metadata": {},
   "source": [
    "## Ad xgboost XGBC Classifier to Requirements\n",
    "\n",
    "pip install xgboost"
   ]
  },
  {
   "cell_type": "code",
   "execution_count": null,
   "metadata": {},
   "outputs": [],
   "source": [
    "import pandas as pd\n",
    "import numpy as np\n",
    "import matplotlib.pyplot as plt\n",
    "import seaborn as sns\n",
    "from sklearn.ensemble import RandomForestClassifier\n",
    "from sklearn.ensemble import GradientBoostingClassifier\n",
    "from sklearn.model_selection import GridSearchCV\n",
    "from sklearn.model_selection import train_test_split\n",
    "from sklearn.metrics import accuracy_score, confusion_matrix\n",
    "from sklearn.preprocessing import RobustScaler, MinMaxScaler, OneHotEncoder\n",
    "from xgboost import XGBClassifier\n",
    "from sklearn.metrics import roc_auc_score, roc_curve\n",
    "from sklearn.model_selection import learning_curve, cross_val_score\n",
    "from sklearn.linear_model import LogisticRegression\n",
    "\n",
    "from sklearn.metrics import classification_report\n",
    "from sklearn.svm import SVC\n",
    "\n",
    "from sklearn.preprocessing import FunctionTransformer\n",
    "from sklearn.compose import ColumnTransformer\n",
    "from sklearn.pipeline import Pipeline\n",
    "from sklearn import set_config\n",
    "\n",
    "# import the functions from the evaluate_models.py\n",
    "\n",
    "import sys\n",
    "\n",
    "# import own modules\n",
    "sys.path.append(\"..\")  # Adds higher directory to python modules path.\n",
    "from scripts import evaluate_models as em\n",
    "\n",
    "\n",
    "plt.style.use('https://github.com/dhaitz/matplotlib-stylesheets/raw/master/pitayasmoothie-dark.mplstyle')\n"
   ]
  },
  {
   "cell_type": "markdown",
   "metadata": {},
   "source": [
    "### Load the CSV into a Dataframe for Processing\n",
    "\n",
    "easy Pipelines with a Grid Search Technique for following Models:\n",
    "- Random Forrest\n",
    "- XGBoost Classifier\n",
    "- Logistic Regression\n",
    "- SVC Support Vector Classifier"
   ]
  },
  {
   "cell_type": "code",
   "execution_count": null,
   "metadata": {},
   "outputs": [],
   "source": [
    "random_state = 42\n",
    "# \n",
    "df = pd.read_csv(\"../data/model_data.csv\")"
   ]
  },
  {
   "cell_type": "code",
   "execution_count": null,
   "metadata": {},
   "outputs": [],
   "source": [
    "# get the target variable\n",
    "target = df[\"asd\"]\n",
    "df.drop(\"asd\", axis=1, inplace=True)"
   ]
  },
  {
   "cell_type": "markdown",
   "metadata": {},
   "source": [
    "### Checking for highly correlated columns\n",
    "think after running this lines, which column to additionally drop"
   ]
  },
  {
   "cell_type": "code",
   "execution_count": null,
   "metadata": {},
   "outputs": [],
   "source": [
    "# Computing the correlation matrix\n",
    "corr_matrix = df[num_cols].corr()\n",
    "\n",
    "# Find pairs with correlation >= 0.8\n",
    "high_corr_pairs = np.column_stack(np.where((np.abs(corr_matrix) >= 0.8) & (corr_matrix != 1)))\n",
    "high_corr_cols = []\n",
    "\n",
    "# Extracting and printing the pairs\n",
    "seen_pairs = set()\n",
    "for i, j in high_corr_pairs:\n",
    "    col1, col2 = corr_matrix.columns[i], corr_matrix.columns[j]\n",
    "    if (col2, col1) not in seen_pairs:\n",
    "        print(f\"Correlation between {col1} and {col2} is {corr_matrix.iloc[i, j]}\")\n",
    "        seen_pairs.add((col1, col2))\n",
    "        seen_pairs.add((col2,col1))\n",
    "        high_corr_cols.append(col1)\n",
    "        high_corr_cols.append(col2)"
   ]
  },
  {
   "cell_type": "markdown",
   "metadata": {},
   "source": [
    "### Think about if u want to drop some High Corr Pair Cols?"
   ]
  },
  {
   "cell_type": "code",
   "execution_count": null,
   "metadata": {},
   "outputs": [],
   "source": [
    "# add more columns to drop with final df\n",
    "df.drop([\"id\", \"img\", \"sp_idx\",\"dummy_feature_name\"], axis=1, inplace=True)"
   ]
  },
  {
   "cell_type": "code",
   "execution_count": null,
   "metadata": {},
   "outputs": [],
   "source": [
    "\n",
    "# Get the Features\n",
    "X = df\n",
    "\n",
    "# Get the target Variable\n",
    "y = target"
   ]
  },
  {
   "cell_type": "code",
   "execution_count": null,
   "metadata": {},
   "outputs": [],
   "source": [
    "# do the Train, Test Split \n",
    "X_train, X_test, y_train, y_test = train_test_split(X,y, test_size=0.2, random_state=42)\n"
   ]
  },
  {
   "cell_type": "code",
   "execution_count": null,
   "metadata": {},
   "outputs": [],
   "source": [
    "# Add them manually later no need for Encoder\n",
    "# Random Forrest and XGBoost both handle categorical Variables well\n",
    "num_cols = df.columns[df.dtypes != \"object\"]\n",
    "cat_cols = df.columns[df.dtypes == \"object\"]"
   ]
  },
  {
   "cell_type": "code",
   "execution_count": null,
   "metadata": {},
   "outputs": [],
   "source": [
    "param_grid_rf = {\n",
    "    \"classifier__n_estimators\": [100, 200, 300],\n",
    "    \"classifier__max_depth\": [None, 10, 20],\n",
    "    \"classifier__min_samples_split\": [2, 5, 10],\n",
    "    \"classifier__min_samples_leaf\": [1, 2, 4]\n",
    "}\n",
    "\n",
    "param_grid_xgb = {\n",
    "    \"classifier__n_estimators\": [100, 200, 300],\n",
    "    \"classifier__max_depth\": [3, 5, 7, None],\n",
    "    \"classifier__learning_rate\": [0.1, 0.01, 0.001]\n",
    "}\n",
    "\n",
    "param_grid_svc = {\n",
    "    'classifier__kernel': ['linear', 'poly', 'rbf', 'sigmoid'],  # Kernel types to try\n",
    "    'classifier__C': [0.1, 1, 10, 100],  # Regularization parameter values\n",
    "    'classifier__gamma': ['scale', 'auto'],  # Gamma parameter for RBF kernel\n",
    "    'classifier__degree': [2, 3, 4]  # Degree of the polynomial kernel (only for poly kernel)\n",
    "}\n",
    "\n",
    "param_grid_logreg = {\n",
    "    'classifier__penalty': ['l1', 'l2'],  # Penalty type: l1 (Lasso) or l2 (Ridge)\n",
    "    'classifier__C': [0.001, 0.01, 0.1, 1, 10, 100, 1000]  # Regularization strength\n",
    "}"
   ]
  },
  {
   "cell_type": "markdown",
   "metadata": {},
   "source": [
    "### Column Transformers for Data Preproccessing\n",
    "these are only used for certain Models, which we expect to perform better with Preproccessed Data"
   ]
  },
  {
   "cell_type": "code",
   "execution_count": null,
   "metadata": {},
   "outputs": [],
   "source": [
    "# add other transformations at the end if needed\n",
    "\n",
    "transformer = [(\"scaler\", MinMaxScaler(), num_cols),\n",
    "               (\"ohe\", OneHotEncoder(drop=\"first\"), cat_cols  )]\n",
    "               \n",
    "preprocessing = ColumnTransformer(transformer,\n",
    "                                  remainder=\"passthrough\")"
   ]
  },
  {
   "cell_type": "markdown",
   "metadata": {},
   "source": [
    "##  Single Pipelines for each Model"
   ]
  },
  {
   "cell_type": "markdown",
   "metadata": {},
   "source": [
    "### Random Forrest Pipeline\n",
    "Random Forrest needs no Scaling or Encoding\n",
    "we will run it with the default data and a Grid Search"
   ]
  },
  {
   "cell_type": "code",
   "execution_count": null,
   "metadata": {},
   "outputs": [],
   "source": [
    "forrest_pipeline = Pipeline([\n",
    "    (\"classifier\", RandomForestClassifier())\n",
    "])"
   ]
  },
  {
   "cell_type": "markdown",
   "metadata": {},
   "source": [
    "### XGBoost Classifier Pipeline\n",
    "Some Hyperparameters profit from Scaled data\n",
    "we will apply a Scaler here"
   ]
  },
  {
   "cell_type": "code",
   "execution_count": null,
   "metadata": {},
   "outputs": [],
   "source": [
    "xgb_pipeline = Pipeline([\n",
    "    (\"preprocessor\", preprocessing),\n",
    "    (\"classifier\", XGBClassifier())\n",
    "])"
   ]
  },
  {
   "cell_type": "markdown",
   "metadata": {},
   "source": [
    "### Logistic Regression Pipeline\n",
    "\n",
    "This Model type profits from Scaling and Encoding! We apply our preproccessor here"
   ]
  },
  {
   "cell_type": "code",
   "execution_count": null,
   "metadata": {},
   "outputs": [],
   "source": [
    "log_pipeline = Pipeline([\n",
    "    (\"preprocessor\", preprocessing),\n",
    "    (\"classifier\", LogisticRegression(max_iter=1000))\n",
    "])"
   ]
  },
  {
   "cell_type": "markdown",
   "metadata": {},
   "source": [
    "### Support Vector Classifier Pipeline\n",
    "\n",
    "We will Scale and Encode here as well, due to the nature of this Algorithm"
   ]
  },
  {
   "cell_type": "code",
   "execution_count": null,
   "metadata": {},
   "outputs": [],
   "source": [
    "svc_pipeline = Pipeline([\n",
    "    (\"preprocessor\", preprocessing),\n",
    "    (\"classifier\",SVC())\n",
    "])"
   ]
  },
  {
   "cell_type": "markdown",
   "metadata": {},
   "source": [
    "# Grid Search CV for the Best Param of each Pipeline"
   ]
  },
  {
   "cell_type": "markdown",
   "metadata": {},
   "source": [
    "### Random Forrest Pipeline - Best Params/Est"
   ]
  },
  {
   "cell_type": "code",
   "execution_count": null,
   "metadata": {},
   "outputs": [],
   "source": [
    "# Specify the list of scoring metrics\n",
    "\n",
    "# Create GridSearchCV object\n",
    "grid_search_rf = GridSearchCV(forrest_pipeline, param_grid=param_grid_rf, cv=5, scoring=\"f1\")\n",
    "grid_search_rf.fit(X_train, y_train)\n",
    "\n",
    "# Get the best parameters and best estimator\n",
    "best_params_rf = grid_search_rf.best_params_\n",
    "best_est_rf = grid_search_rf.best_estimator_\n",
    "print(\"Best params for RF are:\", best_params_rf)\n",
    "print(\"Best est for RF are:\", best_est_rf)\n",
    "\n"
   ]
  },
  {
   "cell_type": "markdown",
   "metadata": {},
   "source": [
    "### XGBC Classifier Pipeline - Best Params/Est"
   ]
  },
  {
   "cell_type": "code",
   "execution_count": null,
   "metadata": {},
   "outputs": [],
   "source": [
    "# Specify the list of scoring metrics\n",
    "\n",
    "# Create GridSearchCV object\n",
    "grid_search_xgb = GridSearchCV(xgb_pipeline, param_grid=param_grid_xgb, cv=5, scoring=\"f1\")\n",
    "grid_search_xgb.fit(X_train, y_train)\n",
    "\n",
    "# Get the best parameters and best estimator\n",
    "best_params_xgb = grid_search_xgb.best_params_\n",
    "best_est_xgb = grid_search_xgb.best_estimator_\n",
    "print(\"Best params for XGB are:\", best_params_xgb)\n",
    "print(\"Best est for XGB are:\", best_est_xgb)"
   ]
  },
  {
   "cell_type": "code",
   "execution_count": null,
   "metadata": {},
   "outputs": [],
   "source": []
  },
  {
   "cell_type": "markdown",
   "metadata": {},
   "source": []
  },
  {
   "cell_type": "markdown",
   "metadata": {},
   "source": [
    "### Logistic Regression Pipeline - Best Params/Est"
   ]
  },
  {
   "cell_type": "code",
   "execution_count": null,
   "metadata": {},
   "outputs": [],
   "source": [
    "# Specify the list of scoring metrics\n",
    "\n",
    "# Create GridSearchCV object\n",
    "grid_search_log = GridSearchCV(log_pipeline, param_grid=param_grid_logreg, cv=5, scoring=\"f1\")\n",
    "grid_search_log.fit(X_train, y_train)\n",
    "\n",
    "# Get the best parameters and best estimator\n",
    "best_params_log = grid_search_log.best_params_\n",
    "best_est_log = grid_search_log.best_estimator_\n",
    "print(\"Best params for LogReg are:\", best_params_log)\n",
    "print(\"Best est for LogReg are:\", best_est_log)"
   ]
  },
  {
   "cell_type": "markdown",
   "metadata": {},
   "source": [
    "### Support Vector Classifier Pipeline - Best Params/Est"
   ]
  },
  {
   "cell_type": "code",
   "execution_count": null,
   "metadata": {},
   "outputs": [],
   "source": [
    "# Specify the list of scoring metrics\n",
    "\n",
    "# Create GridSearchCV object\n",
    "grid_search_svc = GridSearchCV(svc_pipeline, param_grid=param_grid_svc, cv=5, scoring=\"f1\")\n",
    "grid_search_svc.fit(X_train, y_train)\n",
    "\n",
    "# Get the best parameters and best estimator\n",
    "best_params_svc = grid_search_log.best_params_\n",
    "best_est_svc = grid_search_log.best_estimator_\n",
    "print(\"Best params for SVC are:\", best_params_svc)\n",
    "print(\"Best est for SVC are:\", best_est_svc)"
   ]
  },
  {
   "cell_type": "markdown",
   "metadata": {},
   "source": [
    "# Now everything at Once - Get the best GridSearch CV parameters for each Model"
   ]
  },
  {
   "cell_type": "code",
   "execution_count": null,
   "metadata": {},
   "outputs": [],
   "source": [
    "# Define pipelines for different models\n",
    "pipelines = {\n",
    "    \"RandomForestClassifier\": Pipeline([\n",
    "        (\"preprocessing\", preprocessing),\n",
    "        (\"classifier\", RandomForestClassifier())\n",
    "    ]),\n",
    "    \"XGBClassifier\": Pipeline([\n",
    "        (\"preprocessing\", preprocessing),\n",
    "        (\"classifier\", XGBClassifier())\n",
    "    ]),\n",
    "    \"SVC\": Pipeline([\n",
    "        (\"preprocessing\", preprocessing),\n",
    "        (\"classifier\", SVC())\n",
    "    ]),\n",
    "    \"LogisticRegression\": Pipeline([\n",
    "        (\"preprocessing\", preprocessing),\n",
    "        (\"classifier\", LogisticRegression())\n",
    "    ])\n",
    "}\n",
    "\n",
    "# Define parameter grids for different models\n",
    "param_grids = {\n",
    "    \"RandomForestClassifier\": {\n",
    "        \"classifier__n_estimators\": [100, 200, 300],\n",
    "        \"classifier__max_depth\": [None, 10, 20],\n",
    "        \"classifier__min_samples_split\": [2, 5, 10],\n",
    "        \"classifier__min_samples_leaf\": [1, 2, 4]\n",
    "    },\n",
    "    \"XGBClassifier\": {\n",
    "        \"classifier__n_estimators\": [100, 200, 300],\n",
    "        \"classifier__max_depth\": [3, 5, 7, None],\n",
    "        \"classifier__learning_rate\": [0.1, 0.01, 0.001]\n",
    "    },\n",
    "    \"SVC\": {\n",
    "        'classifier__kernel': ['linear', 'poly', 'rbf', 'sigmoid'],\n",
    "        'classifier__C': [0.1, 1, 10, 100],\n",
    "        'classifier__gamma': ['scale', 'auto'],\n",
    "        'classifier__degree': [2, 3, 4]\n",
    "    },\n",
    "    \"LogisticRegression\": {\n",
    "        'classifier__penalty': ['l1', 'l2'],\n",
    "        'classifier__C': [0.001, 0.01, 0.1, 1, 10, 100, 1000]\n",
    "    }\n",
    "}\n",
    "\n",
    "# Perform grid search for each pipeline\n",
    "for model_name, pipeline in pipelines.items():\n",
    "    grid_search = GridSearchCV(pipeline, param_grids[model_name], cv=5, scoring='f1')\n",
    "    grid_search.fit(X_train, y_train)\n",
    "    \n",
    "    print(f\"Best parameters for {model_name}:\")\n",
    "    print(grid_search.best_params_)"
   ]
  },
  {
   "cell_type": "markdown",
   "metadata": {},
   "source": [
    "### Predicting and Modelling Section (Maybe do it in other Notebook with Pickle File)"
   ]
  },
  {
   "cell_type": "markdown",
   "metadata": {},
   "source": []
  },
  {
   "cell_type": "markdown",
   "metadata": {},
   "source": [
    "### Do the Predicting on our Models: Don't forget to scale or preprocess X_test too! Have a look at the pipelines and Code above"
   ]
  },
  {
   "cell_type": "code",
   "execution_count": null,
   "metadata": {},
   "outputs": [],
   "source": []
  }
 ],
 "metadata": {
  "kernelspec": {
   "display_name": ".venv",
   "language": "python",
   "name": "python3"
  },
  "language_info": {
   "codemirror_mode": {
    "name": "ipython",
    "version": 3
   },
   "file_extension": ".py",
   "mimetype": "text/x-python",
   "name": "python",
   "nbconvert_exporter": "python",
   "pygments_lexer": "ipython3",
   "version": "3.11.3"
  }
 },
 "nbformat": 4,
 "nbformat_minor": 2
}
