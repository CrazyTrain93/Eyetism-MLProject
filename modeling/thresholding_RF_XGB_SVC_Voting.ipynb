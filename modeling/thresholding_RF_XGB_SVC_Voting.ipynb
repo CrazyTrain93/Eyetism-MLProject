{
 "cells": [
  {
   "cell_type": "code",
   "execution_count": null,
   "metadata": {},
   "outputs": [],
   "source": [
    "import os\n",
    "import sys\n",
    "import pickle\n",
    "import pandas as pd\n",
    "import matplotlib.pyplot as plt\n",
    "import seaborn as sns\n",
    "\n",
    "from sklearn.metrics import (\n",
    "    confusion_matrix,\n",
    "    roc_auc_score,\n",
    "    f1_score,\n",
    "    precision_score,\n",
    "    recall_score,\n",
    "    accuracy_score,\n",
    "    fbeta_score,\n",
    ")\n",
    "from sklearn.calibration import CalibratedClassifierCV\n",
    "from sklearn.ensemble import VotingClassifier\n",
    "\n",
    "# import own modules\n",
    "sys.path.append(\"..\")  # Adds higher directory to python modules path.\n",
    "from scripts import features as ft\n",
    "from scripts import preprocessing as pp\n",
    "from scripts import evaluate_models as em\n",
    "\n",
    "# plt.style.use('https://github.com/dhaitz/matplotlib-stylesheets/raw/master/pitayasmoothie-dark.mplstyle')\n",
    "plt.style.use(\n",
    "    \"https://github.com/dhaitz/matplotlib-stylesheets/raw/master/pitayasmoothie-light.mplstyle\"\n",
    ")"
   ]
  },
  {
   "cell_type": "code",
   "execution_count": null,
   "metadata": {},
   "outputs": [],
   "source": [
    "# path to csv file\n",
    "path_df = os.path.join(\"..\", \"data\", \"df_deep_sam.csv\")\n",
    "\n",
    "# get features - or recalculate\n",
    "recalculate_df = False\n",
    "if os.path.isfile(path_df) and not recalculate_df:\n",
    "    df = pd.read_csv(path_df)\n",
    "else:\n",
    "    df = ft.get_features()\n",
    "    df.to_csv(path_df, index=False)\n",
    "\n",
    "# set id as index\n",
    "df = df.set_index(\"id\", drop=True)\n",
    "\n",
    "# drop first batch of useless variables\n",
    "df = df.drop(columns=[\"img\", \"sp_idx\"])\n",
    "df = df.drop(\n",
    "    columns=[col for col in df.columns if \"_obj\" in col]\n",
    ")  # drop 'object' columns\n",
    "\n",
    "# processing\n",
    "df = df[df[\"sp_fix_duration_ms_total\"] <= 5000]\n",
    "\n",
    "# find numerical and categorical columns\n",
    "num_cols = df.columns[df.dtypes != \"object\"]\n",
    "cat_cols = df.columns[df.dtypes == \"object\"]\n",
    "\n",
    "# print info\n",
    "print(f\" -> dataframe has {df.shape[0]} instances and {df.shape[1]} columns\")\n",
    "print(f\" -> there are {len(num_cols)} numerical columns\")\n",
    "print(f\" -> there are {len(cat_cols)} categoricals columns\")\n",
    "\n",
    "# prepare features and target\n",
    "X = df\n",
    "y = X.pop(\"asd\")\n",
    "\n",
    "# define numerical columns once more\n",
    "num_cols = X.columns[X.dtypes != \"object\"]\n",
    "\n",
    "# train-test-split\n",
    "X_train, X_test, y_train, y_test = pp.split(X, y)\n",
    "\n",
    "# print info\n",
    "print(f\"train-set has '{len(y_train)}' samples & '{X.shape[1]}' features\")\n",
    "print(f\"test-set has '{len(y_test)}' samples - out of '{df.shape[0]}'\")\n",
    "print(f\"  ~ {len(y_test) / df.shape[0] * 100:.2f}% of full dataset\")"
   ]
  },
  {
   "cell_type": "markdown",
   "metadata": {},
   "source": [
    "----\n",
    "# functions\n"
   ]
  },
  {
   "cell_type": "code",
   "execution_count": null,
   "metadata": {},
   "outputs": [],
   "source": [
    "def vary_threshold(clf, name, thresholds, calib: bool = True):\n",
    "    if calib:\n",
    "        clf = CalibratedClassifierCV(clf, method=\"isotonic\")\n",
    "        clf.fit(X_train, y_train)\n",
    "\n",
    "    proba_train = clf.predict_proba(X_train)\n",
    "\n",
    "    acc, prec, reca = [], [], []\n",
    "    f1, f2, roc_auc = [], [], []\n",
    "\n",
    "    cm_cmap = sns.light_palette(\"seagreen\", as_cmap=True)\n",
    "    nrows, ncols = 5, 7\n",
    "    _, ax = plt.subplots(nrows=nrows, ncols=ncols, figsize=(20, 13))\n",
    "    plt.suptitle(name)\n",
    "    ax = ax.flatten()\n",
    "\n",
    "    for i, thresh in enumerate(thresholds):\n",
    "        y_pred = (proba_train[:, 1] > thresh) * 1\n",
    "\n",
    "        roc_auc.append(roc_auc_score(y_true=y_train, y_score=proba_train[:, 1]))\n",
    "        prec.append(precision_score(y_true=y_train, y_pred=y_pred))\n",
    "        reca.append(recall_score(y_true=y_train, y_pred=y_pred))\n",
    "        acc.append(accuracy_score(y_true=y_train, y_pred=y_pred))\n",
    "        f1.append(f1_score(y_true=y_train, y_pred=y_pred))\n",
    "        f2.append(fbeta_score(y_true=y_train, y_pred=y_pred, beta=2))\n",
    "\n",
    "        iax = ax[i]\n",
    "        plt.subplot(nrows, ncols, i + 1)\n",
    "        sns.heatmap(\n",
    "            confusion_matrix(y_train, y_pred),\n",
    "            annot=True,\n",
    "            cmap=cm_cmap,\n",
    "            fmt=\"g\",\n",
    "            cbar=False,\n",
    "        )\n",
    "        plt.title(f\"thresh. = {round(thresh,2)}\")\n",
    "        plt.xlabel(\"Predicted\")\n",
    "        plt.ylabel(\"Actual\")\n",
    "        iax.set_aspect(\"equal\", \"box\")\n",
    "\n",
    "    plt.tight_layout()\n",
    "\n",
    "    # ------------------------------------------------------------\n",
    "    df2 = pd.DataFrame({\"thresh\": thresholds})\n",
    "    df2[\"acc\"] = acc\n",
    "    df2[\"prec\"] = prec\n",
    "    df2[\"reca\"] = reca\n",
    "    df2[\"f1\"] = f1\n",
    "    df2[\"f2\"] = f2\n",
    "    df2[\"roc_auc\"] = roc_auc\n",
    "\n",
    "    cols = [\"acc\", \"prec\", \"reca\", \"f1\", \"f2\", \"roc_auc\"]\n",
    "    _, ax = plt.subplots(nrows=6, ncols=1, figsize=(12, 30))\n",
    "    for i, c in enumerate(cols):\n",
    "        plt.subplot(6, 1, i + 1)\n",
    "        sns.barplot(data=df2, x=\"thresh\", y=c)\n",
    "        plt.title(c)\n",
    "        plt.xlabel(\"threshold\")\n",
    "        plt.ylabel(c)\n",
    "        plt.ylim(df2[c].min() - 0.01, df2[c].max() + 0.01)\n",
    "    plt.tight_layout()\n",
    "\n",
    "    #\n",
    "    plt.figure()\n",
    "    sns.lineplot(df2.set_index(\"thresh\", drop=True))\n",
    "\n",
    "    return clf"
   ]
  },
  {
   "cell_type": "code",
   "execution_count": null,
   "metadata": {},
   "outputs": [],
   "source": [
    "def new_threshold(mdl, new_threshold=0.5):\n",
    "    proba_train = mdl.predict_proba(X_train)\n",
    "    pred_train = (proba_train[:, 1] > new_threshold) * 1\n",
    "\n",
    "    proba_test = mdl.predict_proba(X_test)\n",
    "    pred_test = (proba_test[:, 1] > new_threshold) * 1\n",
    "\n",
    "    # evaluate model\n",
    "    em.report(\n",
    "        y_train=y_train,\n",
    "        y_train_pred=pred_train,\n",
    "        y_train_proba=proba_train,\n",
    "        y_test=y_test,\n",
    "        y_test_pred=pred_test,\n",
    "        y_test_proba=proba_test,\n",
    "    )"
   ]
  },
  {
   "cell_type": "markdown",
   "metadata": {},
   "source": [
    "----\n",
    "# models\n"
   ]
  },
  {
   "cell_type": "code",
   "execution_count": null,
   "metadata": {},
   "outputs": [],
   "source": [
    "models = [\n",
    "    \"../models/RF_final/RF_final.pickle\",\n",
    "    \"../models/xgb_final/xgb_final_new.pickle\",\n",
    "    \"../models/SVC_final/best_svc_resnet.pickle\",\n",
    "]\n",
    "\n",
    "with open(os.path.join(models[0]), \"rb\") as f:\n",
    "    rf = pickle.load(f)\n",
    "with open(os.path.join(models[1]), \"rb\") as f:\n",
    "    xgb = pickle.load(f)\n",
    "with open(os.path.join(models[2]), \"rb\") as f:\n",
    "    svc = pickle.load(f)\n",
    "\n",
    "thresholds = [i / 100 for i in list(range(16, 86, 2))]\n",
    "\n",
    "print(thresholds)\n",
    "print(len(thresholds))"
   ]
  },
  {
   "cell_type": "markdown",
   "metadata": {},
   "source": [
    "----\n",
    "# RF\n"
   ]
  },
  {
   "cell_type": "code",
   "execution_count": null,
   "metadata": {},
   "outputs": [],
   "source": [
    "rf_calib = vary_threshold(rf, \"RF\", thresholds, calib=True)"
   ]
  },
  {
   "cell_type": "code",
   "execution_count": null,
   "metadata": {},
   "outputs": [],
   "source": [
    "new_threshold(rf_calib, new_threshold=0.38)\n",
    "new_threshold(rf, new_threshold=0.5)"
   ]
  },
  {
   "cell_type": "markdown",
   "metadata": {},
   "source": [
    "----\n",
    "# XGB\n"
   ]
  },
  {
   "cell_type": "code",
   "execution_count": null,
   "metadata": {},
   "outputs": [],
   "source": [
    "xgb_calib = vary_threshold(xgb, \"xgb\", thresholds=thresholds, calib=True)"
   ]
  },
  {
   "cell_type": "code",
   "execution_count": null,
   "metadata": {},
   "outputs": [],
   "source": [
    "new_threshold(xgb_calib, new_threshold=0.42)\n",
    "new_threshold(xgb, new_threshold=0.5)"
   ]
  },
  {
   "cell_type": "markdown",
   "metadata": {},
   "source": [
    "----\n",
    "# SVC"
   ]
  },
  {
   "cell_type": "code",
   "execution_count": null,
   "metadata": {},
   "outputs": [],
   "source": [
    "svc_calib = vary_threshold(svc, \"SVC\", thresholds=thresholds, calib=True)"
   ]
  },
  {
   "cell_type": "code",
   "execution_count": null,
   "metadata": {},
   "outputs": [],
   "source": [
    "new_threshold(svc_calib, new_threshold=0.36)\n",
    "new_threshold(svc, new_threshold=0.5)"
   ]
  },
  {
   "cell_type": "markdown",
   "metadata": {},
   "source": [
    "----\n",
    "\n",
    "# voting"
   ]
  },
  {
   "cell_type": "code",
   "execution_count": null,
   "metadata": {},
   "outputs": [],
   "source": [
    "vtg_calib = VotingClassifier(\n",
    "    estimators=[\n",
    "        (\"calibrated_xgb\", xgb_calib),\n",
    "        (\"calibrated_rf\", rf_calib),\n",
    "        (\"calibrated_svc\", svc_calib),\n",
    "    ],\n",
    "    voting=\"soft\",\n",
    ")\n",
    "# Fit the voting classifier with training data\n",
    "vtg_calib.fit(X_train, y_train)"
   ]
  },
  {
   "cell_type": "code",
   "execution_count": null,
   "metadata": {},
   "outputs": [],
   "source": [
    "vary_threshold(vtg_calib, \"voting_c\", thresholds=thresholds, calib=False)"
   ]
  },
  {
   "cell_type": "code",
   "execution_count": null,
   "metadata": {},
   "outputs": [],
   "source": [
    "new_threshold(vtg_calib, new_threshold=0.4)\n",
    "new_threshold(vtg_calib, new_threshold=0.5)"
   ]
  },
  {
   "cell_type": "markdown",
   "metadata": {},
   "source": [
    "----\n",
    "\n",
    "# save calibrated models"
   ]
  },
  {
   "cell_type": "code",
   "execution_count": null,
   "metadata": {},
   "outputs": [],
   "source": [
    "em.save_model(m=rf_calib, file=\"RF_calib.pickle\", folder=\"calibrated\")\n",
    "em.save_model(m=xgb_calib, file=\"XGB_calib.pickle\", folder=\"calibrated\")\n",
    "em.save_model(m=svc_calib, file=\"SVC_calib.pickle\", folder=\"calibrated\")\n",
    "em.save_model(m=vtg_calib, file=\"VTG_calib.pickle\", folder=\"calibrated\")"
   ]
  }
 ],
 "metadata": {
  "kernelspec": {
   "display_name": "nf_CAPSTONE",
   "language": "python",
   "name": "python3"
  },
  "language_info": {
   "codemirror_mode": {
    "name": "ipython",
    "version": 3
   },
   "file_extension": ".py",
   "mimetype": "text/x-python",
   "name": "python",
   "nbconvert_exporter": "python",
   "pygments_lexer": "ipython3",
   "version": "3.11.3"
  }
 },
 "nbformat": 4,
 "nbformat_minor": 2
}
