{
 "cells": [
  {
   "cell_type": "markdown",
   "metadata": {},
   "source": [
    "### Import libraries"
   ]
  },
  {
   "cell_type": "code",
   "execution_count": null,
   "metadata": {},
   "outputs": [],
   "source": [
    "import os\n",
    "import sys\n",
    "\n",
    "import pandas as pd\n",
    "import numpy as np\n",
    "import matplotlib.pyplot as plt\n",
    "import seaborn as sns\n",
    "\n",
    "from sklearn import set_config\n",
    "from sklearn.compose import ColumnTransformer\n",
    "from sklearn.ensemble import RandomForestClassifier\n",
    "from sklearn.ensemble import GradientBoostingClassifier\n",
    "from sklearn.feature_selection import RFE, RFECV\n",
    "from sklearn.inspection import permutation_importance\n",
    "from sklearn.linear_model import LogisticRegression\n",
    "from sklearn.metrics import accuracy_score, confusion_matrix\n",
    "from sklearn.metrics import roc_auc_score, roc_curve\n",
    "from sklearn.metrics import classification_report\n",
    "from sklearn.metrics import fbeta_score, make_scorer\n",
    "from sklearn.model_selection import GridSearchCV, RandomizedSearchCV\n",
    "from sklearn.model_selection import learning_curve, cross_val_score\n",
    "from sklearn.pipeline import Pipeline\n",
    "from sklearn.preprocessing import RobustScaler, MinMaxScaler, OneHotEncoder\n",
    "from sklearn.preprocessing import FunctionTransformer\n",
    "from sklearn.svm import SVC\n",
    "from sklearn.tree import DecisionTreeClassifier\n",
    "\n",
    "from xgboost import XGBClassifier\n",
    "\n",
    "# import own modules\n",
    "sys.path.append(\"..\")  # Adds higher directory to python modules path.\n",
    "from scripts import features as ft\n",
    "from scripts import preprocessing as pp\n",
    "from scripts import evaluate_models as em\n",
    "\n",
    "# plt.style.use('https://github.com/dhaitz/matplotlib-stylesheets/raw/master/pitayasmoothie-dark.mplstyle')\n",
    "plt.style.use(\n",
    "    \"https://github.com/dhaitz/matplotlib-stylesheets/raw/master/pitayasmoothie-light.mplstyle\"\n",
    ")\n"
   ]
  },
  {
   "cell_type": "markdown",
   "metadata": {},
   "source": [
    "---\n",
    "## Preparations\n",
    "\n",
    "### Load the CSV into a Dataframe\n",
    "\n",
    "- load csv (or calculate again if not in data folder)\n",
    "- update index=id\n",
    "- drop useless columns\n",
    "- find numerical & object columns"
   ]
  },
  {
   "cell_type": "code",
   "execution_count": null,
   "metadata": {},
   "outputs": [],
   "source": [
    "# path to csv file\n",
    "path_df = os.path.join(\"..\", \"data\", \"df_deepgaze2e.csv\")\n",
    "\n",
    "# get features - or recalculate\n",
    "recalculate_df = False\n",
    "if os.path.isfile(path_df) and not recalculate_df:\n",
    "    df = pd.read_csv(path_df)\n",
    "else:\n",
    "    df = ft.get_features()\n",
    "    df.to_csv(path_df, index=False)\n",
    "\n",
    "# set id as index\n",
    "df = df.set_index(\"id\", drop=True)\n",
    "\n",
    "# drop first batch of useless variables\n",
    "df = df.drop(columns=[\"img\", \"sp_idx\"])\n",
    "df = df.drop(\n",
    "    columns=[col for col in df.columns if \"_obj\" in col]\n",
    ")  # drop 'object' columns\n",
    "\n",
    "# find numerical and categorical columns\n",
    "num_cols = df.columns[df.dtypes != \"object\"]\n",
    "cat_cols = df.columns[df.dtypes == \"object\"]\n",
    "\n",
    "# print info\n",
    "print(f\" -> dataframe has {df.shape[0]} instances and {df.shape[1]} columns\")\n",
    "print(f\" -> there are {len(num_cols)} numerical columns\")\n",
    "print(f\" -> there are {len(cat_cols)} categoricals columns\")"
   ]
  },
  {
   "cell_type": "markdown",
   "metadata": {},
   "source": [
    "### First, drop instances & features\n",
    "\n",
    "- unusual long fixation durations are identified as outliers and dropped\n",
    "  - drop if \"dur > 5000 ms\"\n"
   ]
  },
  {
   "cell_type": "code",
   "execution_count": null,
   "metadata": {},
   "outputs": [],
   "source": [
    "# processing\n",
    "df = df[df[\"sp_fix_duration_ms_total\"] <= 5000]\n",
    "\n",
    "# find numerical and categorical columns\n",
    "num_cols = df.columns[df.dtypes != \"object\"]\n",
    "cat_cols = df.columns[df.dtypes == \"object\"]\n",
    "\n",
    "# print info\n",
    "print(f\" -> dataframe has {df.shape[0]} instances and {df.shape[1]} columns\")\n",
    "print(f\" -> there are {len(num_cols)} numerical columns\")\n",
    "print(f\" -> there are {len(cat_cols)} categoricals columns\")"
   ]
  },
  {
   "cell_type": "markdown",
   "metadata": {},
   "source": [
    "### Split into train & test sets\n",
    "\n",
    "As soon as the dataset is in its final form, perform train-test-split with our own split function to have out 30-image-set always as our test set."
   ]
  },
  {
   "cell_type": "code",
   "execution_count": null,
   "metadata": {},
   "outputs": [],
   "source": [
    "# prepare features and target\n",
    "X = df\n",
    "y = X.pop(\"asd\")\n",
    "\n",
    "# train-test-split\n",
    "X_train, X_test, y_train, y_test = pp.split(X, y)\n",
    "\n",
    "# print info\n",
    "print(f\"train-set has '{len(y_train)}' samples & '{X.shape[1]}' features\")\n",
    "print(f\"test-set has '{len(y_test)}' samples - out of '{df.shape[0]}'\")\n",
    "print(f\"  ~ {len(y_test) / df.shape[0] * 100:.2f}% of full dataset\")"
   ]
  },
  {
   "cell_type": "markdown",
   "metadata": {},
   "source": [
    "### Set variables\n",
    "\n",
    "- define `metric`\n",
    "- behavior for saving models as pickles\n",
    "- defaults for model-objects"
   ]
  },
  {
   "cell_type": "code",
   "execution_count": null,
   "metadata": {},
   "outputs": [],
   "source": [
    "# metric\n",
    "ftwo_scorer = make_scorer(fbeta_score, beta=2)\n",
    "\n",
    "# models\n",
    "folder_name = \"RF_RFE_CV\"\n",
    "\n",
    "# defaults\n",
    "RSEED = 42\n",
    "cv = 10\n",
    "n_jobs = -1\n",
    "verbose = 0"
   ]
  },
  {
   "cell_type": "markdown",
   "metadata": {},
   "source": [
    "###  Pipelines for each Model"
   ]
  },
  {
   "cell_type": "code",
   "execution_count": null,
   "metadata": {},
   "outputs": [],
   "source": [
    "# Random Forest: no scaling / no encoding\n",
    "rf_pipeline = Pipeline(\n",
    "    [\n",
    "        (\n",
    "            \"classifier\",\n",
    "            RandomForestClassifier(\n",
    "                random_state=RSEED,\n",
    "                n_jobs=n_jobs,\n",
    "                verbose=0,\n",
    "            ),\n",
    "        )\n",
    "    ]\n",
    ")"
   ]
  },
  {
   "cell_type": "markdown",
   "metadata": {},
   "source": [
    "---\n",
    "## Modeling\n",
    "\n",
    "### Random Forest\n",
    "\n",
    "defaults: _no restrictions whatsoever_"
   ]
  },
  {
   "cell_type": "code",
   "execution_count": null,
   "metadata": {},
   "outputs": [],
   "source": [
    "# Create GridSearchCV object & fit it\n",
    "rf_defaults = RandomForestClassifier(\n",
    "    random_state=RSEED,\n",
    "    n_jobs=n_jobs,\n",
    "    verbose=0,\n",
    ")"
   ]
  },
  {
   "cell_type": "code",
   "execution_count": null,
   "metadata": {},
   "outputs": [],
   "source": [
    "# set file & folder name\n",
    "model_name = \"RF_defaults.pickle\"\n",
    "\n",
    "# fit or load\n",
    "rf_defaults = em.fit_or_load(\n",
    "    rf_defaults, X_train, y_train, model_name, folder=folder_name\n",
    ")"
   ]
  },
  {
   "cell_type": "code",
   "execution_count": null,
   "metadata": {},
   "outputs": [],
   "source": [
    "# predict & proba\n",
    "pred_test = rf_defaults.predict(X_test)\n",
    "proba_test = rf_defaults.predict_proba(X_test)\n",
    "\n",
    "pred_train = rf_defaults.predict(X_train)\n",
    "proba_train = rf_defaults.predict_proba(X_train)\n",
    "\n",
    "# evaluate model\n",
    "em.report(\n",
    "    y_train=y_train,\n",
    "    y_train_pred=pred_train,\n",
    "    y_train_proba=proba_train,\n",
    "    y_test=y_test,\n",
    "    y_test_pred=pred_test,\n",
    "    y_test_proba=proba_test,\n",
    ")"
   ]
  },
  {
   "cell_type": "code",
   "execution_count": null,
   "metadata": {},
   "outputs": [],
   "source": [
    "# Get the best parameters and best estimator\n",
    "em.model_info(rf_defaults)\n",
    "\n",
    "# # feature importances\n",
    "# em.feat_importance(rf_defaults, X_train, y_train, X_test, y_test, n_reps=100)\n",
    "\n",
    "# # learning curves - for one model - f2 score\n",
    "# em.learning(rf_defaults, X_train, y_train)"
   ]
  },
  {
   "cell_type": "markdown",
   "metadata": {},
   "source": [
    "----\n",
    "----\n",
    "\n",
    "### feature selection\n",
    "\n",
    "#### RFE"
   ]
  },
  {
   "cell_type": "code",
   "execution_count": null,
   "metadata": {},
   "outputs": [],
   "source": [
    "estimator = RandomForestClassifier(\n",
    "    random_state=RSEED,\n",
    "    n_jobs=n_jobs,\n",
    "    verbose=0,\n",
    ")\n",
    "selector_RFE = RFE(estimator, verbose=0)\n",
    "selector_RFE = selector_RFE.fit(X_train, y_train)\n",
    "feat_RFE = selector_RFE.get_feature_names_out()\n",
    "print(f\"selected {selector_RFE.n_features_} features: {feat_RFE}\")"
   ]
  },
  {
   "cell_type": "code",
   "execution_count": null,
   "metadata": {},
   "outputs": [],
   "source": [
    "# Create GridSearchCV object & fit it\n",
    "rf_RFE_defaults = RandomForestClassifier(\n",
    "    random_state=RSEED,\n",
    "    n_jobs=2,\n",
    "    verbose=0,\n",
    ")\n",
    "\n",
    "# set file & folder name\n",
    "model_name = \"RF_RFE_defaults.pickle\"\n",
    "\n",
    "# fit or load\n",
    "rf_RFE_defaults = em.fit_or_load(\n",
    "    rf_RFE_defaults, X_train[feat_RFE], y_train, model_name, folder=folder_name\n",
    ")"
   ]
  },
  {
   "cell_type": "code",
   "execution_count": null,
   "metadata": {},
   "outputs": [],
   "source": [
    "# predict & proba\n",
    "pred_test = rf_RFE_defaults.predict(X_test[feat_RFE])\n",
    "proba_test = rf_RFE_defaults.predict_proba(X_test[feat_RFE])\n",
    "\n",
    "pred_train = rf_RFE_defaults.predict(X_train[feat_RFE])\n",
    "proba_train = rf_RFE_defaults.predict_proba(X_train[feat_RFE])\n",
    "\n",
    "# evaluate model\n",
    "em.report(\n",
    "    y_train=y_train,\n",
    "    y_train_pred=pred_train,\n",
    "    y_train_proba=proba_train,\n",
    "    y_test=y_test,\n",
    "    y_test_pred=pred_test,\n",
    "    y_test_proba=proba_test,\n",
    ")"
   ]
  },
  {
   "cell_type": "code",
   "execution_count": null,
   "metadata": {},
   "outputs": [],
   "source": [
    "# Get the best parameters and best estimator\n",
    "em.model_info(rf_RFE_defaults)"
   ]
  },
  {
   "cell_type": "markdown",
   "metadata": {},
   "source": [
    "-----\n",
    "\n",
    "#### grid I "
   ]
  },
  {
   "cell_type": "code",
   "execution_count": null,
   "metadata": {},
   "outputs": [],
   "source": [
    "# grid\n",
    "param_grid_rf = {\n",
    "    \"classifier__max_depth\": [7, 9, 11],\n",
    "    \"classifier__max_features\": [\"sqrt\", \"log2\"],\n",
    "    \"classifier__min_samples_leaf\": [20, 30, 40],\n",
    "    \"classifier__min_samples_split\": [40, 50, 60],\n",
    "    \"classifier__n_estimators\": [100, 200, 300],\n",
    "}\n",
    "\n",
    "# Create GridSeardchCV object & fit it\n",
    "gs_rf_RFE_v1 = GridSearchCV(\n",
    "    rf_pipeline,\n",
    "    param_grid=param_grid_rf,\n",
    "    cv=5,\n",
    "    scoring=ftwo_scorer,\n",
    "    n_jobs=n_jobs,\n",
    "    verbose=1,\n",
    ")\n",
    "\n",
    "# set file & folder name\n",
    "model_name = \"RF_RFE_grid_v1.pickle\"\n",
    "\n",
    "# fit or load\n",
    "gs_rf_RFE_v1 = em.fit_or_load(\n",
    "    gs_rf_RFE_v1, X_train[feat_RFE], y_train, model_name, folder=folder_name\n",
    ")"
   ]
  },
  {
   "cell_type": "code",
   "execution_count": null,
   "metadata": {},
   "outputs": [],
   "source": [
    "# predict & proba\n",
    "pred_test = gs_rf_RFE_v1.predict(X_test[feat_RFE])\n",
    "proba_test = gs_rf_RFE_v1.predict_proba(X_test[feat_RFE])\n",
    "\n",
    "pred_train = gs_rf_RFE_v1.predict(X_train[feat_RFE])\n",
    "proba_train = gs_rf_RFE_v1.predict_proba(X_train[feat_RFE])\n",
    "\n",
    "# evaluate model\n",
    "em.report(\n",
    "    y_train=y_train,\n",
    "    y_train_pred=pred_train,\n",
    "    y_train_proba=proba_train,\n",
    "    y_test=y_test,\n",
    "    y_test_pred=pred_test,\n",
    "    y_test_proba=proba_test,\n",
    ")"
   ]
  },
  {
   "cell_type": "code",
   "execution_count": null,
   "metadata": {},
   "outputs": [],
   "source": [
    "# Get the best parameters and best estimator\n",
    "em.model_info(gs_rf_RFE_v1)\n",
    "\n",
    "# # feature importances\n",
    "# em.feat_importance(grid_search_rf, X_train, y_train, X_test, y_test)\n",
    "\n",
    "# # learning curves - for one model - f2 score\n",
    "# em.learning(grid_search_rf.best_estimator_, X_train, y_train)"
   ]
  },
  {
   "cell_type": "markdown",
   "metadata": {},
   "source": [
    "-----\n",
    "\n",
    "#### grid II "
   ]
  },
  {
   "cell_type": "code",
   "execution_count": null,
   "metadata": {},
   "outputs": [],
   "source": [
    "# grid\n",
    "param_grid_rf = {\n",
    "    \"classifier__max_depth\": [7, 8],\n",
    "    \"classifier__max_features\": [\"sqrt\", \"log2\"],\n",
    "    \"classifier__min_samples_leaf\": [25, 30, 35],\n",
    "    \"classifier__min_samples_split\": [55, 60, 65],\n",
    "    \"classifier__n_estimators\": [50, 100, 150, 200],\n",
    "}\n",
    "\n",
    "# Create GridSeardchCV object & fit it\n",
    "gs_rf_RFE_v2 = GridSearchCV(\n",
    "    rf_pipeline,\n",
    "    param_grid=param_grid_rf,\n",
    "    cv=5,\n",
    "    scoring=ftwo_scorer,\n",
    "    n_jobs=n_jobs,\n",
    "    verbose=1,\n",
    ")\n",
    "\n",
    "# set file & folder name\n",
    "model_name = \"RF_RFE_grid_v2.pickle\"\n",
    "\n",
    "# fit or load\n",
    "gs_rf_RFE_v2 = em.fit_or_load(\n",
    "    gs_rf_RFE_v2, X_train[feat_RFE], y_train, model_name, folder=folder_name\n",
    ")"
   ]
  },
  {
   "cell_type": "code",
   "execution_count": null,
   "metadata": {},
   "outputs": [],
   "source": [
    "# predict & proba\n",
    "pred_test = gs_rf_RFE_v2.predict(X_test[feat_RFE])\n",
    "proba_test = gs_rf_RFE_v2.predict_proba(X_test[feat_RFE])\n",
    "\n",
    "pred_train = gs_rf_RFE_v2.predict(X_train[feat_RFE])\n",
    "proba_train = gs_rf_RFE_v2.predict_proba(X_train[feat_RFE])\n",
    "\n",
    "# evaluate model\n",
    "em.report(\n",
    "    y_train=y_train,\n",
    "    y_train_pred=pred_train,\n",
    "    y_train_proba=proba_train,\n",
    "    y_test=y_test,\n",
    "    y_test_pred=pred_test,\n",
    "    y_test_proba=proba_test,\n",
    ")"
   ]
  },
  {
   "cell_type": "code",
   "execution_count": null,
   "metadata": {},
   "outputs": [],
   "source": [
    "# Get the best parameters and best estimator\n",
    "em.model_info(gs_rf_RFE_v2)\n",
    "\n",
    "# # feature importances\n",
    "# em.feat_importance(grid_search_rf, X_train, y_train, X_test, y_test)\n",
    "\n",
    "# # learning curves - for one model - f2 score\n",
    "# em.learning(grid_search_rf.best_estimator_, X_train, y_train)"
   ]
  },
  {
   "cell_type": "markdown",
   "metadata": {},
   "source": [
    "-----\n",
    "\n",
    "#### grid III"
   ]
  },
  {
   "cell_type": "code",
   "execution_count": null,
   "metadata": {},
   "outputs": [],
   "source": [
    "# grid\n",
    "param_grid_rf = {\n",
    "    \"classifier__max_depth\": [7],\n",
    "    \"classifier__max_features\": [\"sqrt\", \"log2\"],\n",
    "    \"classifier__min_samples_leaf\": [30, 35],\n",
    "    \"classifier__min_samples_split\": [50, 55, 60],\n",
    "    \"classifier__n_estimators\": [100, 150, 200],\n",
    "}\n",
    "\n",
    "# Create GridSeardchCV object & fit it\n",
    "gs_rf_RFE_v3 = GridSearchCV(\n",
    "    rf_pipeline,\n",
    "    param_grid=param_grid_rf,\n",
    "    cv=5,\n",
    "    scoring=ftwo_scorer,\n",
    "    n_jobs=n_jobs,\n",
    "    verbose=1,\n",
    ")\n",
    "\n",
    "# set file & folder name\n",
    "model_name = \"RF_RFE_grid_v3.pickle\"\n",
    "\n",
    "# fit or load\n",
    "gs_rf_RFE_v3 = em.fit_or_load(\n",
    "    gs_rf_RFE_v3, X_train[feat_RFE], y_train, model_name, folder=folder_name\n",
    ")"
   ]
  },
  {
   "cell_type": "code",
   "execution_count": null,
   "metadata": {},
   "outputs": [],
   "source": [
    "# predict & proba\n",
    "pred_test = gs_rf_RFE_v3.predict(X_test[feat_RFE])\n",
    "proba_test = gs_rf_RFE_v3.predict_proba(X_test[feat_RFE])\n",
    "\n",
    "pred_train = gs_rf_RFE_v3.predict(X_train[feat_RFE])\n",
    "proba_train = gs_rf_RFE_v3.predict_proba(X_train[feat_RFE])\n",
    "\n",
    "# evaluate model\n",
    "em.report(\n",
    "    y_train=y_train,\n",
    "    y_train_pred=pred_train,\n",
    "    y_train_proba=proba_train,\n",
    "    y_test=y_test,\n",
    "    y_test_pred=pred_test,\n",
    "    y_test_proba=proba_test,\n",
    ")"
   ]
  },
  {
   "cell_type": "code",
   "execution_count": null,
   "metadata": {},
   "outputs": [],
   "source": [
    "# Get the best parameters and best estimator\n",
    "em.model_info(gs_rf_RFE_v3)\n",
    "\n",
    "# # feature importances\n",
    "# em.feat_importance(grid_search_rf, X_train, y_train, X_test, y_test)\n",
    "\n",
    "# # learning curves - for one model - f2 score\n",
    "# em.learning(grid_search_rf.best_estimator_, X_train, y_train)"
   ]
  },
  {
   "cell_type": "markdown",
   "metadata": {},
   "source": [
    "-----\n",
    "\n",
    "#### grid IV"
   ]
  },
  {
   "cell_type": "code",
   "execution_count": null,
   "metadata": {},
   "outputs": [],
   "source": [
    "# grid\n",
    "param_grid_rf = {\n",
    "    \"classifier__max_depth\": [1],\n",
    "    \"classifier__max_features\": [\"sqrt\", \"log2\"],\n",
    "    \"classifier__n_estimators\": [50, 100, 150, 200, 250, 300],\n",
    "}\n",
    "\n",
    "# Create GridSeardchCV object & fit it\n",
    "gs_rf_RFE_v4 = GridSearchCV(\n",
    "    rf_pipeline,\n",
    "    param_grid=param_grid_rf,\n",
    "    cv=5,\n",
    "    scoring=ftwo_scorer,\n",
    "    n_jobs=n_jobs,\n",
    "    verbose=1,\n",
    ")\n",
    "\n",
    "# set file & folder name\n",
    "model_name = \"RF_RFE_grid_v4.pickle\"\n",
    "\n",
    "# fit or load\n",
    "gs_rf_RFE_v4 = em.fit_or_load(\n",
    "    gs_rf_RFE_v4, X_train[feat_RFE], y_train, model_name, folder=folder_name\n",
    ")"
   ]
  },
  {
   "cell_type": "code",
   "execution_count": null,
   "metadata": {},
   "outputs": [],
   "source": [
    "# predict & proba\n",
    "pred_test = gs_rf_RFE_v4.predict(X_test[feat_RFE])\n",
    "proba_test = gs_rf_RFE_v4.predict_proba(X_test[feat_RFE])\n",
    "\n",
    "pred_train = gs_rf_RFE_v4.predict(X_train[feat_RFE])\n",
    "proba_train = gs_rf_RFE_v4.predict_proba(X_train[feat_RFE])\n",
    "\n",
    "# evaluate model\n",
    "em.report(\n",
    "    y_train=y_train,\n",
    "    y_train_pred=pred_train,\n",
    "    y_train_proba=proba_train,\n",
    "    y_test=y_test,\n",
    "    y_test_pred=pred_test,\n",
    "    y_test_proba=proba_test,\n",
    ")"
   ]
  },
  {
   "cell_type": "code",
   "execution_count": null,
   "metadata": {},
   "outputs": [],
   "source": [
    "# Get the best parameters and best estimator\n",
    "em.model_info(gs_rf_RFE_v4)\n",
    "\n",
    "# # feature importances\n",
    "em.feat_importance(gs_rf_RFE_v4, X_train[feat_RFE], y_train, X_test[feat_RFE], y_test)\n",
    "\n",
    "# # learning curves - for one model - f2 score\n",
    "# em.learning(grid_search_rf.best_estimator_, X_train, y_train)"
   ]
  },
  {
   "cell_type": "markdown",
   "metadata": {},
   "source": [
    "----\n",
    "----\n",
    "\n",
    "#### RFECV\n"
   ]
  },
  {
   "cell_type": "code",
   "execution_count": null,
   "metadata": {},
   "outputs": [],
   "source": [
    "estimator = RandomForestClassifier(\n",
    "    random_state=RSEED,\n",
    "    n_jobs=n_jobs,\n",
    "    verbose=0,\n",
    ")\n",
    "selector_RFECV = RFECV(estimator, scoring=ftwo_scorer)\n",
    "selector_RFECV = selector_RFECV.fit(X_train, y_train)\n",
    "feat_RFECV = selector_RFECV.get_feature_names_out()\n",
    "print(f\"selected {selector_RFECV.n_features_} features: {feat_RFECV}\")"
   ]
  },
  {
   "cell_type": "code",
   "execution_count": null,
   "metadata": {},
   "outputs": [],
   "source": [
    "# Create GridSearchCV object & fit it\n",
    "rf_RFECV_defaults = RandomForestClassifier(\n",
    "    random_state=RSEED,\n",
    "    n_jobs=n_jobs,\n",
    "    verbose=0,\n",
    ")\n",
    "\n",
    "# set file & folder name\n",
    "model_name = \"RF_RFECV_defaults.pickle\"\n",
    "\n",
    "# fit or load\n",
    "rf_RFECV_defaults = em.fit_or_load(\n",
    "    rf_RFECV_defaults, X_train[feat_RFECV], y_train, model_name, folder=folder_name\n",
    ")"
   ]
  },
  {
   "cell_type": "code",
   "execution_count": null,
   "metadata": {},
   "outputs": [],
   "source": [
    "# predict & proba\n",
    "pred_test = rf_RFECV_defaults.predict(X_test[feat_RFECV])\n",
    "proba_test = rf_RFECV_defaults.predict_proba(X_test[feat_RFECV])\n",
    "\n",
    "pred_train = rf_RFECV_defaults.predict(X_train[feat_RFECV])\n",
    "proba_train = rf_RFECV_defaults.predict_proba(X_train[feat_RFECV])\n",
    "\n",
    "# evaluate model\n",
    "em.report(\n",
    "    y_train=y_train,\n",
    "    y_train_pred=pred_train,\n",
    "    y_train_proba=proba_train,\n",
    "    y_test=y_test,\n",
    "    y_test_pred=pred_test,\n",
    "    y_test_proba=proba_test,\n",
    ")"
   ]
  },
  {
   "cell_type": "markdown",
   "metadata": {},
   "source": [
    "-----\n",
    "\n",
    "#### grid I "
   ]
  },
  {
   "cell_type": "code",
   "execution_count": null,
   "metadata": {},
   "outputs": [],
   "source": [
    "# grid\n",
    "param_grid_rf = {\n",
    "    \"classifier__max_depth\": [7, 9, 11],\n",
    "    \"classifier__max_features\": [\"sqrt\", \"log2\"],\n",
    "    \"classifier__min_samples_leaf\": [20, 30, 40],\n",
    "    \"classifier__min_samples_split\": [40, 50, 60],\n",
    "    \"classifier__n_estimators\": [100, 200, 300],\n",
    "}\n",
    "\n",
    "# Create GridSeardchCV object & fit it\n",
    "gs_rf_RFECV_v1 = GridSearchCV(\n",
    "    rf_pipeline,\n",
    "    param_grid=param_grid_rf,\n",
    "    cv=5,\n",
    "    scoring=ftwo_scorer,\n",
    "    n_jobs=n_jobs,\n",
    "    verbose=1,\n",
    ")\n",
    "\n",
    "# set file & folder name\n",
    "model_name = \"RF_RFECV_grid_v1.pickle\"\n",
    "\n",
    "# fit or load\n",
    "gs_rf_RFECV_v1 = em.fit_or_load(\n",
    "    gs_rf_RFECV_v1, X_train[feat_RFECV], y_train, model_name, folder=folder_name\n",
    ")"
   ]
  },
  {
   "cell_type": "code",
   "execution_count": null,
   "metadata": {},
   "outputs": [],
   "source": [
    "# predict & proba\n",
    "pred_test = gs_rf_RFECV_v1.predict(X_test[feat_RFECV])\n",
    "proba_test = gs_rf_RFECV_v1.predict_proba(X_test[feat_RFECV])\n",
    "\n",
    "pred_train = gs_rf_RFECV_v1.predict(X_train[feat_RFECV])\n",
    "proba_train = gs_rf_RFECV_v1.predict_proba(X_train[feat_RFECV])\n",
    "\n",
    "# evaluate model\n",
    "em.report(\n",
    "    y_train=y_train,\n",
    "    y_train_pred=pred_train,\n",
    "    y_train_proba=proba_train,\n",
    "    y_test=y_test,\n",
    "    y_test_pred=pred_test,\n",
    "    y_test_proba=proba_test,\n",
    ")"
   ]
  },
  {
   "cell_type": "code",
   "execution_count": null,
   "metadata": {},
   "outputs": [],
   "source": [
    "# Get the best parameters and best estimator\n",
    "em.model_info(gs_rf_RFECV_v1)\n",
    "\n",
    "# # feature importances\n",
    "# em.feat_importance(grid_search_rf, X_train, y_train, X_test, y_test)\n",
    "\n",
    "# # learning curves - for one model - f2 score\n",
    "# em.learning(grid_search_rf.best_estimator_, X_train, y_train)"
   ]
  },
  {
   "cell_type": "markdown",
   "metadata": {},
   "source": [
    "-----\n",
    "\n",
    "#### grid II"
   ]
  },
  {
   "cell_type": "code",
   "execution_count": null,
   "metadata": {},
   "outputs": [],
   "source": [
    "# grid\n",
    "param_grid_rf = {\n",
    "    \"classifier__max_depth\": [7, 9],\n",
    "    \"classifier__max_features\": [\"sqrt\", \"log2\"],\n",
    "    \"classifier__min_samples_leaf\": [30, 40],\n",
    "    \"classifier__min_samples_split\": [50, 60, 70],\n",
    "    \"classifier__n_estimators\": [50, 100, 200, 300],\n",
    "}\n",
    "\n",
    "# Create GridSeardchCV object & fit it\n",
    "gs_rf_RFECV_v2 = GridSearchCV(\n",
    "    rf_pipeline,\n",
    "    param_grid=param_grid_rf,\n",
    "    cv=5,\n",
    "    scoring=ftwo_scorer,\n",
    "    n_jobs=n_jobs,\n",
    "    verbose=1,\n",
    ")\n",
    "\n",
    "# set file & folder name\n",
    "model_name = \"RF_RFECV_grid_v2.pickle\"\n",
    "\n",
    "# fit or load\n",
    "gs_rf_RFECV_v2 = em.fit_or_load(\n",
    "    gs_rf_RFECV_v2, X_train[feat_RFECV], y_train, model_name, folder=folder_name\n",
    ")"
   ]
  },
  {
   "cell_type": "code",
   "execution_count": null,
   "metadata": {},
   "outputs": [],
   "source": [
    "# predict & proba\n",
    "pred_test = gs_rf_RFECV_v2.predict(X_test[feat_RFECV])\n",
    "proba_test = gs_rf_RFECV_v2.predict_proba(X_test[feat_RFECV])\n",
    "\n",
    "pred_train = gs_rf_RFECV_v2.predict(X_train[feat_RFECV])\n",
    "proba_train = gs_rf_RFECV_v2.predict_proba(X_train[feat_RFECV])\n",
    "\n",
    "# evaluate model\n",
    "em.report(\n",
    "    y_train=y_train,\n",
    "    y_train_pred=pred_train,\n",
    "    y_train_proba=proba_train,\n",
    "    y_test=y_test,\n",
    "    y_test_pred=pred_test,\n",
    "    y_test_proba=proba_test,\n",
    ")"
   ]
  },
  {
   "cell_type": "code",
   "execution_count": null,
   "metadata": {},
   "outputs": [],
   "source": [
    "# Get the best parameters and best estimator\n",
    "em.model_info(gs_rf_RFECV_v2)\n",
    "\n",
    "# # feature importances\n",
    "# em.feat_importance(grid_search_rf, X_train, y_train, X_test, y_test)\n",
    "\n",
    "# # learning curves - for one model - f2 score\n",
    "# em.learning(grid_search_rf.best_estimator_, X_train, y_train)"
   ]
  },
  {
   "cell_type": "markdown",
   "metadata": {},
   "source": [
    "-----\n",
    "\n",
    "#### grid III"
   ]
  },
  {
   "cell_type": "code",
   "execution_count": null,
   "metadata": {},
   "outputs": [],
   "source": [
    "# grid\n",
    "param_grid_rf = {\n",
    "    \"classifier__max_depth\": [7],\n",
    "    \"classifier__max_features\": [\"sqrt\", \"log2\"],\n",
    "    \"classifier__min_samples_leaf\": [40],\n",
    "    \"classifier__min_samples_split\": [50],\n",
    "    \"classifier__n_estimators\": [50, 100, 150, 200],\n",
    "}\n",
    "\n",
    "# Create GridSeardchCV object & fit it\n",
    "gs_rf_RFECV_v3 = GridSearchCV(\n",
    "    rf_pipeline,\n",
    "    param_grid=param_grid_rf,\n",
    "    cv=5,\n",
    "    scoring=ftwo_scorer,\n",
    "    n_jobs=n_jobs,\n",
    "    verbose=1,\n",
    ")\n",
    "\n",
    "# set file & folder name\n",
    "model_name = \"RF_RFECV_grid_v3.pickle\"\n",
    "\n",
    "# fit or load\n",
    "gs_rf_RFECV_v3 = em.fit_or_load(\n",
    "    gs_rf_RFECV_v3, X_train[feat_RFECV], y_train, model_name, folder=folder_name\n",
    ")"
   ]
  },
  {
   "cell_type": "code",
   "execution_count": null,
   "metadata": {},
   "outputs": [],
   "source": [
    "# predict & proba\n",
    "pred_test = gs_rf_RFECV_v3.predict(X_test[feat_RFECV])\n",
    "proba_test = gs_rf_RFECV_v3.predict_proba(X_test[feat_RFECV])\n",
    "\n",
    "pred_train = gs_rf_RFECV_v3.predict(X_train[feat_RFECV])\n",
    "proba_train = gs_rf_RFECV_v3.predict_proba(X_train[feat_RFECV])\n",
    "\n",
    "# evaluate model\n",
    "em.report(\n",
    "    y_train=y_train,\n",
    "    y_train_pred=pred_train,\n",
    "    y_train_proba=proba_train,\n",
    "    y_test=y_test,\n",
    "    y_test_pred=pred_test,\n",
    "    y_test_proba=proba_test,\n",
    ")"
   ]
  },
  {
   "cell_type": "code",
   "execution_count": null,
   "metadata": {},
   "outputs": [],
   "source": [
    "# Get the best parameters and best estimator\n",
    "em.model_info(gs_rf_RFECV_v3)\n",
    "\n",
    "# # feature importances\n",
    "# em.feat_importance(grid_search_rf, X_train, y_train, X_test, y_test)\n",
    "\n",
    "# # learning curves - for one model - f2 score\n",
    "# em.learning(grid_search_rf.best_estimator_, X_train, y_train)"
   ]
  },
  {
   "cell_type": "markdown",
   "metadata": {},
   "source": [
    "-----\n",
    "\n",
    "#### grid IV"
   ]
  },
  {
   "cell_type": "code",
   "execution_count": null,
   "metadata": {},
   "outputs": [],
   "source": [
    "# grid\n",
    "param_grid_rf = {\n",
    "    \"classifier__max_depth\": [2],\n",
    "    \"classifier__max_features\": [\"sqrt\", \"log2\"],\n",
    "    \"classifier__n_estimators\": [50, 100, 150, 200, 250, 300],\n",
    "}\n",
    "\n",
    "# Create GridSeardchCV object & fit it\n",
    "gs_rf_RFECV_v4 = GridSearchCV(\n",
    "    rf_pipeline,\n",
    "    param_grid=param_grid_rf,\n",
    "    cv=5,\n",
    "    scoring=ftwo_scorer,\n",
    "    n_jobs=n_jobs,\n",
    "    verbose=1,\n",
    ")\n",
    "\n",
    "# set file & folder name\n",
    "model_name = \"RF_RFECV_grid_v4.pickle\"\n",
    "\n",
    "# fit or load\n",
    "gs_rf_RFECV_v4 = em.fit_or_load(\n",
    "    gs_rf_RFECV_v4, X_train[feat_RFECV], y_train, model_name, folder=folder_name, overwrite=True\n",
    ")"
   ]
  },
  {
   "cell_type": "code",
   "execution_count": null,
   "metadata": {},
   "outputs": [],
   "source": [
    "# predict & proba\n",
    "pred_test = gs_rf_RFECV_v4.predict(X_test[feat_RFECV])\n",
    "proba_test = gs_rf_RFECV_v4.predict_proba(X_test[feat_RFECV])\n",
    "\n",
    "pred_train = gs_rf_RFECV_v4.predict(X_train[feat_RFECV])\n",
    "proba_train = gs_rf_RFECV_v4.predict_proba(X_train[feat_RFECV])\n",
    "\n",
    "# evaluate model\n",
    "em.report(\n",
    "    y_train=y_train,\n",
    "    y_train_pred=pred_train,\n",
    "    y_train_proba=proba_train,\n",
    "    y_test=y_test,\n",
    "    y_test_pred=pred_test,\n",
    "    y_test_proba=proba_test,\n",
    ")"
   ]
  },
  {
   "cell_type": "code",
   "execution_count": null,
   "metadata": {},
   "outputs": [],
   "source": [
    "# Get the best parameters and best estimator\n",
    "em.model_info(gs_rf_RFECV_v4)\n",
    "\n",
    "# feature importances\n",
    "em.feat_importance(gs_rf_RFECV_v4, X_train[feat_RFECV], y_train, X_test[feat_RFECV], y_test)\n",
    "\n",
    "# # learning curves - for one model - f2 score\n",
    "# em.learning(grid_search_rf.best_estimator_, X_train, y_train)"
   ]
  }
 ],
 "metadata": {
  "kernelspec": {
   "display_name": ".venv",
   "language": "python",
   "name": "python3"
  },
  "language_info": {
   "codemirror_mode": {
    "name": "ipython",
    "version": 3
   },
   "file_extension": ".py",
   "mimetype": "text/x-python",
   "name": "python",
   "nbconvert_exporter": "python",
   "pygments_lexer": "ipython3",
   "version": "3.11.3"
  }
 },
 "nbformat": 4,
 "nbformat_minor": 2
}
